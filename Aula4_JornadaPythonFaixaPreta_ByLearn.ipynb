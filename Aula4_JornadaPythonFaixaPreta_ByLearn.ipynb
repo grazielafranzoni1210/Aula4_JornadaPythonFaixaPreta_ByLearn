{
  "nbformat": 4,
  "nbformat_minor": 0,
  "metadata": {
    "colab": {
      "name": "Aula4_JornadaPythonFaixaPreta_ByLearn.ipynb",
      "provenance": [],
      "collapsed_sections": [],
      "authorship_tag": "ABX9TyPt/2MOtWh4Lybn06jj8TA4",
      "include_colab_link": true
    },
    "kernelspec": {
      "name": "python3",
      "display_name": "Python 3"
    },
    "language_info": {
      "name": "python"
    }
  },
  "cells": [
    {
      "cell_type": "markdown",
      "metadata": {
        "id": "view-in-github",
        "colab_type": "text"
      },
      "source": [
        "<a href=\"https://colab.research.google.com/github/grazielafranzoni1210/Aula4_JornadaPythonFaixaPreta_ByLearn/blob/main/Aula4_JornadaPythonFaixaPreta_ByLearn.ipynb\" target=\"_parent\"><img src=\"https://colab.research.google.com/assets/colab-badge.svg\" alt=\"Open In Colab\"/></a>"
      ]
    },
    {
      "cell_type": "code",
      "metadata": {
        "id": "K8NmYmUcjDjq"
      },
      "source": [
        "import math\n",
        "\n",
        "numero = 25\n",
        "raiz_quadrada = math.sqrt(numero)\n",
        "ao_cubo = math.pow(raiz_quadrada, 3)"
      ],
      "execution_count": 39,
      "outputs": []
    },
    {
      "cell_type": "code",
      "metadata": {
        "colab": {
          "base_uri": "https://localhost:8080/"
        },
        "id": "LnbhBO4aELeq",
        "outputId": "dbe37483-8e5c-4cab-e918-42387fa38326"
      },
      "source": [
        "# importando o módulo Requests e Json\n",
        "import requests\n",
        "import json\n",
        "\n",
        "# definindo nossa Payload\n",
        "payload = {'name': 'Graziela Franzoni', 'job': 'qatester'}\n",
        "\n",
        "# enviando nossa Payload via POST\n",
        "response = requests.post('https://reqres.in/api/users', data = json.dumps(payload))\n",
        "\n",
        "# vamos verifica ro que enviamos\n",
        "print(response.request.body)\n",
        "# output: {'name': 'Graziela Franzoni', 'job': 'qatester'}\n",
        "\n",
        "# vamos verificar o código de resposta\n",
        "print(response.status_code)\n",
        "# output: 201\n",
        "\n",
        "# vamos verificar a resposta\n",
        "print(response.text)\n",
        "# output: {'id': '683', 'createdAt': '2020-09-03T12:29:07.721Z'}"
      ],
      "execution_count": 12,
      "outputs": [
        {
          "output_type": "stream",
          "text": [
            "{\"name\": \"Graziela Franzoni\", \"job\": \"qatester\"}\n",
            "201\n",
            "{\"id\":\"772\",\"createdAt\":\"2021-05-12T22:47:33.920Z\"}\n"
          ],
          "name": "stdout"
        }
      ]
    },
    {
      "cell_type": "code",
      "metadata": {
        "colab": {
          "base_uri": "https://localhost:8080/"
        },
        "id": "DOZMpDRUGLPq",
        "outputId": "2205553c-aa5f-4a0b-e63b-292647a9b78e"
      },
      "source": [
        "import re\n",
        "\n",
        "texto = 'Graziela Franzoni'\n",
        "padrao = r'\\w+\\s\\w+'\n",
        "\n",
        "regex = re.fullmatch(padrao, texto)\n",
        "\n",
        "if regex:\n",
        "  print('Valido')\n",
        "else:\n",
        "  print('Inválido')"
      ],
      "execution_count": null,
      "outputs": [
        {
          "output_type": "stream",
          "text": [
            "Valido\n"
          ],
          "name": "stdout"
        }
      ]
    },
    {
      "cell_type": "code",
      "metadata": {
        "id": "zhg9-0pSfjd-"
      },
      "source": [
        "import unittest\n",
        "\n",
        "class TestStringMethods(unittest.TestCase):\n",
        "\n",
        "  def setUp(self):\n",
        "    pass\n",
        "\n",
        "  # Return True if the string contains 4 a.\n",
        "  def test_string_a(self):\n",
        "    self.assertEqual('a'*4, 'aaaa')\n",
        "\n",
        "  # Return True if the string is in upper case.\n",
        "  def test_uper(self):\n",
        "    self.assertEqual('foo'.upper(), 'FOO')\n",
        "\n",
        "  # Return True if the string is in upper case.\n",
        "  # else return False.\n",
        "  def test_isupper(self):\n",
        "    self.assertTrue('FOO',isupper())\n",
        "    self.assertFalse('Foo',isupper())"
      ],
      "execution_count": 4,
      "outputs": []
    },
    {
      "cell_type": "code",
      "metadata": {
        "colab": {
          "base_uri": "https://localhost:8080/"
        },
        "id": "Aqhnkq6F1Cg-",
        "outputId": "3be09103-7238-4e23-91c5-b8d4d385bdee"
      },
      "source": [
        "import numpy as np\n",
        "\n",
        "# criar matrizes randômicas\n",
        "x1 = np.random.randint(10, size=6) # matriz de uma dimensão\n",
        "x2 = np.random.randint(10, size=(3, 4)) # matriz bidimensional\n",
        "x3 = np.random.randint(10, size=(3, 4, 5)) # matriz tridimensional\n",
        "\n",
        "print('Dimensões do x3: ', x3.ndim)\n",
        "print('Shape (formato) do x3', x3.shape)\n",
        "print('Tamanho do x3', x3.size)\n",
        "\n",
        "print('Primeira coluna do x2:', x2[:, 0])\n",
        "print('Primeira linha do x2:', x2[0,:])"
      ],
      "execution_count": 16,
      "outputs": [
        {
          "output_type": "stream",
          "text": [
            "Dimensões do x3:  3\n",
            "Shape (formato) do x3 (3, 4, 5)\n",
            "Tamanho do x3 60\n",
            "Primeira coluna do x2: [1 0 8]\n",
            "Primeira linha do x2: [1 7 3 7]\n"
          ],
          "name": "stdout"
        }
      ]
    },
    {
      "cell_type": "code",
      "metadata": {
        "colab": {
          "base_uri": "https://localhost:8080/"
        },
        "id": "vKdI3TU9-vTw",
        "outputId": "200b6fb5-db10-42bd-eb0b-b48ece785148"
      },
      "source": [
        "import re\n",
        "\n",
        "texto = 'Venha se tornar um ByLearner'\n",
        "padrao = r'\\bByLearn\\w*\\b'\n",
        "\n",
        "resultado = re.search(padrao, texto)\n",
        "\n",
        "if resultado:\n",
        "  print('Encontramos o padrão no texto, entre os índices: '+ f'{resultado.start()} e {resultado.end()}')\n",
        "else:\n",
        "  print('Não encontramos o padrão no texto')"
      ],
      "execution_count": 26,
      "outputs": [
        {
          "output_type": "stream",
          "text": [
            "Encontramos o padrão no texto, entre os índices: 19 e 28\n"
          ],
          "name": "stdout"
        }
      ]
    },
    {
      "cell_type": "code",
      "metadata": {
        "colab": {
          "base_uri": "https://localhost:8080/"
        },
        "id": "_ZaHNqb-AWE6",
        "outputId": "303421dc-4f87-46e8-c0d6-4d84ad3410ae"
      },
      "source": [
        "import re\n",
        "\n",
        "texto = 'O rato roeu a roupa do rei de Roma.'\n",
        "padrao = r'rato|roupa|rei'\n",
        "\n",
        "ocorrencias = re.finditer(padrao, texto)\n",
        "\n",
        "for ocorrencia in ocorrencias:\n",
        "  print(f'Encontrei: {ocorrencia.group()} entre os índices {ocorrencia.span()}')"
      ],
      "execution_count": 29,
      "outputs": [
        {
          "output_type": "stream",
          "text": [
            "Encontrei: rato entre os índices (2, 6)\n",
            "Encontrei: roupa entre os índices (14, 19)\n",
            "Encontrei: rei entre os índices (23, 26)\n"
          ],
          "name": "stdout"
        }
      ]
    },
    {
      "cell_type": "code",
      "metadata": {
        "colab": {
          "base_uri": "https://localhost:8080/"
        },
        "id": "fygbI75zB0XS",
        "outputId": "c0402930-62d6-453d-c3ab-cb1bd0757cef"
      },
      "source": [
        "import re\n",
        "\n",
        "texto = 'O rato roeu a roupa do rei de Roma.'\n",
        "padrao = r'[rR](w*)'\n",
        "substituicao = r'g\\1'\n",
        "\n",
        "novo_texto = re.sub(padrao, substituicao, texto)\n",
        "print(novo_texto)"
      ],
      "execution_count": 31,
      "outputs": [
        {
          "output_type": "stream",
          "text": [
            "O gato goeu a goupa do gei de goma.\n"
          ],
          "name": "stdout"
        }
      ]
    },
    {
      "cell_type": "code",
      "metadata": {
        "colab": {
          "base_uri": "https://localhost:8080/"
        },
        "id": "QkHddsqjB8oW",
        "outputId": "9d127e44-1e8f-414f-9ad7-1a569dd27727"
      },
      "source": [
        "import re\n",
        "\n",
        "texto = 'Um dois três quatro cinco'\n",
        "padrao = r'quatro'\n",
        "substituicao = r'três'\n",
        "\n",
        "novo_texto = re.sub(padrao, substituicao, texto, 1)\n",
        "print(novo_texto)"
      ],
      "execution_count": 33,
      "outputs": [
        {
          "output_type": "stream",
          "text": [
            "Um dois três três cinco\n"
          ],
          "name": "stdout"
        }
      ]
    },
    {
      "cell_type": "code",
      "metadata": {
        "id": "mlm3wKJPYx4O"
      },
      "source": [
        "import sqlite3\n",
        "\n",
        "arquivo_db = 'bylearn.db'\n",
        "conexao = sqlite3.connect(arquivo_db)"
      ],
      "execution_count": 34,
      "outputs": []
    },
    {
      "cell_type": "code",
      "metadata": {
        "colab": {
          "base_uri": "https://localhost:8080/"
        },
        "id": "pDkX0xvYZDUq",
        "outputId": "326e231a-9a6a-46c8-c2f9-b6462b1ab652"
      },
      "source": [
        "import sqlite3\n",
        "\n",
        "sql_criar_tabela = \"\"\" CREATE TABLE IF NOT EXISTS alunos (id integer PRIMARY KEY AUTOINCREMENT, nome text NOT NULL, nota integer NOT NULL); \"\"\"\n",
        "\n",
        "conexao = sqlite3.connect('bylearn.db')\n",
        "cursor = conexao.cursor()\n",
        "cursor.execute(sql_criar_tabela)"
      ],
      "execution_count": 36,
      "outputs": [
        {
          "output_type": "execute_result",
          "data": {
            "text/plain": [
              "<sqlite3.Cursor at 0x7f98655ffb20>"
            ]
          },
          "metadata": {
            "tags": []
          },
          "execution_count": 36
        }
      ]
    },
    {
      "cell_type": "code",
      "metadata": {
        "id": "GsDDB4ZKZ89M"
      },
      "source": [
        "import sqlite3\n",
        "\n",
        "sql_inserir_aluna_graziela = \"INSERT INTO alunos (nome, nota) VALUES ('Graziela', 10)\"\n",
        "sql_inserir_aluna_felipe = \"INSERT INTO alunos (nome, nota) VALUES ('Felipe', 7)\"\n",
        "\n",
        "conexao = sqlite3.connect('bylearn.db')\n",
        "cursor = conexao.cursor()\n",
        "\n",
        "cursor.execute(sql_inserir_aluna_graziela)\n",
        "cursor.execute(sql_inserir_aluna_felipe)\n",
        "\n",
        "conexao.commit()"
      ],
      "execution_count": 37,
      "outputs": []
    },
    {
      "cell_type": "code",
      "metadata": {
        "colab": {
          "base_uri": "https://localhost:8080/"
        },
        "id": "LDIl1O3gasnJ",
        "outputId": "d36582f0-65bb-4ce2-908e-5284b7744faf"
      },
      "source": [
        "import sqlite3\n",
        "\n",
        "sql_busca_alunos = \"SELECT * FROM alunos\"\n",
        "\n",
        "conexao = sqlite3.connect('bylearn.db')\n",
        "cursor = conexao.cursor()\n",
        "\n",
        "cursor.execute(sql_busca_alunos)\n",
        "alunos = cursor.fetchall()\n",
        "\n",
        "for aluno in alunos:\n",
        "  print('O aluno', aluno[1], 'tirou nota', aluno[2])"
      ],
      "execution_count": 38,
      "outputs": [
        {
          "output_type": "stream",
          "text": [
            "O aluno Graziela tirou nota 10\n",
            "O aluno Felipe tirou nota 7\n"
          ],
          "name": "stdout"
        }
      ]
    }
  ]
}